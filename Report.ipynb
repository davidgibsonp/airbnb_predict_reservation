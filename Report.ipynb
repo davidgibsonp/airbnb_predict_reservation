{
 "cells": [
  {
   "cell_type": "markdown",
   "metadata": {},
   "source": [
    "# Predict Airbnb User Bookings From Web Sessions\n",
    "#### By: David Gibson"
   ]
  },
  {
   "cell_type": "markdown",
   "metadata": {},
   "source": [
    "## Table of contents\n",
    "\n",
    "1. [Introduction](#Introduction)\n",
    "\n",
    "2. [Data Cleaning](#Data-Cleaning)\n",
    "\n",
    "3. [Exploratoty Data Analysis](#Exploratoty-Data-Analysis)\n",
    "\n",
    "4. [Modeling](#Modeling)\n",
    "\n",
    "4. [Model Evaluation ](#Model-Evaluation )"
   ]
  },
  {
   "cell_type": "markdown",
   "metadata": {},
   "source": [
    "## Introduction:\n",
    "#### Goal:\n",
    "Using the data from the Kaggle x Airbnb competition I wanted to predict wether or not a user will make a reservation based on their user data and their web session data.\n",
    "\n",
    "#### Data:\n",
    "Three data sets were used in this project.\n",
    "- Training user demographics\n",
    "- Test user demographics\n",
    "- Web sessions for \n",
    "\n",
    "#### Methodology:\n",
    "Create new features by performing One Hot Encoding on session data. Join new features with training data. Extract most important features from random forest. Finally build multiple classification models and evaluate performance."
   ]
  },
  {
   "cell_type": "markdown",
   "metadata": {},
   "source": [
    "# Data Cleaning"
   ]
  },
  {
   "cell_type": "code",
   "execution_count": 2,
   "metadata": {
    "collapsed": true
   },
   "outputs": [],
   "source": [
    "import pandas as pd\n",
    "import numpy as np\n",
    "import seaborn as sns\n",
    "import matplotlib.pyplot as plt\n",
    "from sklearn.datasets import load_iris\n",
    "from sklearn.ensemble import RandomForestClassifier\n",
    "from sklearn.preprocessing import OneHotEncoder\n",
    "from sklearn import preprocessing\n",
    "\n",
    "# Set default Seaborn style\n",
    "sns.set()"
   ]
  },
  {
   "cell_type": "code",
   "execution_count": 5,
   "metadata": {
    "collapsed": true,
    "scrolled": true
   },
   "outputs": [],
   "source": [
    "# Load Session Data\n",
    "sesh = pd.read_csv('data/Original/sessions.csv', index_col = 0, nrows=10000)"
   ]
  },
  {
   "cell_type": "code",
   "execution_count": 6,
   "metadata": {
    "collapsed": true,
    "scrolled": true
   },
   "outputs": [],
   "source": [
    "# Save times to calculate sesh times and then drop\n",
    "times = pd.DataFrame(sesh.secs_elapsed)\n",
    "sesh = sesh.drop('secs_elapsed', 1)\n",
    "\n",
    "# Load train data to filter out test users because kaggle did not provide predicted varible in download.\n",
    "train_users_2 = pd.read_csv('data/Original/train_users_2.csv', index_col = 0) \n",
    "sesh = sesh.loc[sesh.index.isin(train_users_2.index)]\n",
    "\n",
    "# Save user ids\n",
    "user_ids = set(sesh.index)"
   ]
  },
  {
   "cell_type": "markdown",
   "metadata": {},
   "source": [
    "### One Hot Encoding"
   ]
  },
  {
   "cell_type": "markdown",
   "metadata": {},
   "source": [
    "Create new features for machine learning by perform one hot encoding."
   ]
  },
  {
   "cell_type": "code",
   "execution_count": 13,
   "metadata": {},
   "outputs": [
    {
     "data": {
      "text/html": [
       "<div>\n",
       "<style>\n",
       "    .dataframe thead tr:only-child th {\n",
       "        text-align: right;\n",
       "    }\n",
       "\n",
       "    .dataframe thead th {\n",
       "        text-align: left;\n",
       "    }\n",
       "\n",
       "    .dataframe tbody tr th {\n",
       "        vertical-align: top;\n",
       "    }\n",
       "</style>\n",
       "<table border=\"1\" class=\"dataframe\">\n",
       "  <thead>\n",
       "    <tr style=\"text-align: right;\">\n",
       "      <th></th>\n",
       "      <th>secs_elapsed</th>\n",
       "      <th>action_10</th>\n",
       "      <th>action_12</th>\n",
       "      <th>action_15</th>\n",
       "      <th>action_account</th>\n",
       "      <th>action_active</th>\n",
       "      <th>action_add_guests</th>\n",
       "      <th>action_ajax_check_dates</th>\n",
       "      <th>action_ajax_google_translate_description</th>\n",
       "      <th>action_ajax_image_upload</th>\n",
       "      <th>...</th>\n",
       "      <th>action_detail_your_listings</th>\n",
       "      <th>action_detail_your_trips</th>\n",
       "      <th>device_type_-unknown-</th>\n",
       "      <th>device_type_Android App Unknown Phone/Tablet</th>\n",
       "      <th>device_type_Android Phone</th>\n",
       "      <th>device_type_Linux Desktop</th>\n",
       "      <th>device_type_Mac Desktop</th>\n",
       "      <th>device_type_Windows Desktop</th>\n",
       "      <th>device_type_iPad Tablet</th>\n",
       "      <th>device_type_iPhone</th>\n",
       "    </tr>\n",
       "    <tr>\n",
       "      <th>user_id</th>\n",
       "      <th></th>\n",
       "      <th></th>\n",
       "      <th></th>\n",
       "      <th></th>\n",
       "      <th></th>\n",
       "      <th></th>\n",
       "      <th></th>\n",
       "      <th></th>\n",
       "      <th></th>\n",
       "      <th></th>\n",
       "      <th></th>\n",
       "      <th></th>\n",
       "      <th></th>\n",
       "      <th></th>\n",
       "      <th></th>\n",
       "      <th></th>\n",
       "      <th></th>\n",
       "      <th></th>\n",
       "      <th></th>\n",
       "      <th></th>\n",
       "      <th></th>\n",
       "    </tr>\n",
       "  </thead>\n",
       "  <tbody>\n",
       "    <tr>\n",
       "      <th>d1mm9tcy42</th>\n",
       "      <td>319.0</td>\n",
       "      <td>0</td>\n",
       "      <td>0</td>\n",
       "      <td>0</td>\n",
       "      <td>0</td>\n",
       "      <td>0</td>\n",
       "      <td>0</td>\n",
       "      <td>0</td>\n",
       "      <td>0</td>\n",
       "      <td>0</td>\n",
       "      <td>...</td>\n",
       "      <td>0</td>\n",
       "      <td>0</td>\n",
       "      <td>0</td>\n",
       "      <td>0</td>\n",
       "      <td>0</td>\n",
       "      <td>0</td>\n",
       "      <td>0</td>\n",
       "      <td>1</td>\n",
       "      <td>0</td>\n",
       "      <td>0</td>\n",
       "    </tr>\n",
       "    <tr>\n",
       "      <th>d1mm9tcy42</th>\n",
       "      <td>67753.0</td>\n",
       "      <td>0</td>\n",
       "      <td>0</td>\n",
       "      <td>0</td>\n",
       "      <td>0</td>\n",
       "      <td>0</td>\n",
       "      <td>0</td>\n",
       "      <td>0</td>\n",
       "      <td>0</td>\n",
       "      <td>0</td>\n",
       "      <td>...</td>\n",
       "      <td>0</td>\n",
       "      <td>0</td>\n",
       "      <td>0</td>\n",
       "      <td>0</td>\n",
       "      <td>0</td>\n",
       "      <td>0</td>\n",
       "      <td>0</td>\n",
       "      <td>1</td>\n",
       "      <td>0</td>\n",
       "      <td>0</td>\n",
       "    </tr>\n",
       "    <tr>\n",
       "      <th>d1mm9tcy42</th>\n",
       "      <td>301.0</td>\n",
       "      <td>0</td>\n",
       "      <td>0</td>\n",
       "      <td>0</td>\n",
       "      <td>0</td>\n",
       "      <td>0</td>\n",
       "      <td>0</td>\n",
       "      <td>0</td>\n",
       "      <td>0</td>\n",
       "      <td>0</td>\n",
       "      <td>...</td>\n",
       "      <td>0</td>\n",
       "      <td>0</td>\n",
       "      <td>0</td>\n",
       "      <td>0</td>\n",
       "      <td>0</td>\n",
       "      <td>0</td>\n",
       "      <td>0</td>\n",
       "      <td>1</td>\n",
       "      <td>0</td>\n",
       "      <td>0</td>\n",
       "    </tr>\n",
       "    <tr>\n",
       "      <th>d1mm9tcy42</th>\n",
       "      <td>22141.0</td>\n",
       "      <td>0</td>\n",
       "      <td>0</td>\n",
       "      <td>0</td>\n",
       "      <td>0</td>\n",
       "      <td>0</td>\n",
       "      <td>0</td>\n",
       "      <td>0</td>\n",
       "      <td>0</td>\n",
       "      <td>0</td>\n",
       "      <td>...</td>\n",
       "      <td>0</td>\n",
       "      <td>0</td>\n",
       "      <td>0</td>\n",
       "      <td>0</td>\n",
       "      <td>0</td>\n",
       "      <td>0</td>\n",
       "      <td>0</td>\n",
       "      <td>1</td>\n",
       "      <td>0</td>\n",
       "      <td>0</td>\n",
       "    </tr>\n",
       "    <tr>\n",
       "      <th>d1mm9tcy42</th>\n",
       "      <td>435.0</td>\n",
       "      <td>0</td>\n",
       "      <td>0</td>\n",
       "      <td>0</td>\n",
       "      <td>0</td>\n",
       "      <td>0</td>\n",
       "      <td>0</td>\n",
       "      <td>0</td>\n",
       "      <td>0</td>\n",
       "      <td>0</td>\n",
       "      <td>...</td>\n",
       "      <td>0</td>\n",
       "      <td>0</td>\n",
       "      <td>0</td>\n",
       "      <td>0</td>\n",
       "      <td>0</td>\n",
       "      <td>0</td>\n",
       "      <td>0</td>\n",
       "      <td>1</td>\n",
       "      <td>0</td>\n",
       "      <td>0</td>\n",
       "    </tr>\n",
       "  </tbody>\n",
       "</table>\n",
       "<p>5 rows × 209 columns</p>\n",
       "</div>"
      ],
      "text/plain": [
       "            secs_elapsed  action_10  action_12  action_15  action_account  \\\n",
       "user_id                                                                     \n",
       "d1mm9tcy42         319.0          0          0          0               0   \n",
       "d1mm9tcy42       67753.0          0          0          0               0   \n",
       "d1mm9tcy42         301.0          0          0          0               0   \n",
       "d1mm9tcy42       22141.0          0          0          0               0   \n",
       "d1mm9tcy42         435.0          0          0          0               0   \n",
       "\n",
       "            action_active  action_add_guests  action_ajax_check_dates  \\\n",
       "user_id                                                                 \n",
       "d1mm9tcy42              0                  0                        0   \n",
       "d1mm9tcy42              0                  0                        0   \n",
       "d1mm9tcy42              0                  0                        0   \n",
       "d1mm9tcy42              0                  0                        0   \n",
       "d1mm9tcy42              0                  0                        0   \n",
       "\n",
       "            action_ajax_google_translate_description  \\\n",
       "user_id                                                \n",
       "d1mm9tcy42                                         0   \n",
       "d1mm9tcy42                                         0   \n",
       "d1mm9tcy42                                         0   \n",
       "d1mm9tcy42                                         0   \n",
       "d1mm9tcy42                                         0   \n",
       "\n",
       "            action_ajax_image_upload         ...          \\\n",
       "user_id                                      ...           \n",
       "d1mm9tcy42                         0         ...           \n",
       "d1mm9tcy42                         0         ...           \n",
       "d1mm9tcy42                         0         ...           \n",
       "d1mm9tcy42                         0         ...           \n",
       "d1mm9tcy42                         0         ...           \n",
       "\n",
       "            action_detail_your_listings  action_detail_your_trips  \\\n",
       "user_id                                                             \n",
       "d1mm9tcy42                            0                         0   \n",
       "d1mm9tcy42                            0                         0   \n",
       "d1mm9tcy42                            0                         0   \n",
       "d1mm9tcy42                            0                         0   \n",
       "d1mm9tcy42                            0                         0   \n",
       "\n",
       "            device_type_-unknown-  \\\n",
       "user_id                             \n",
       "d1mm9tcy42                      0   \n",
       "d1mm9tcy42                      0   \n",
       "d1mm9tcy42                      0   \n",
       "d1mm9tcy42                      0   \n",
       "d1mm9tcy42                      0   \n",
       "\n",
       "            device_type_Android App Unknown Phone/Tablet  \\\n",
       "user_id                                                    \n",
       "d1mm9tcy42                                             0   \n",
       "d1mm9tcy42                                             0   \n",
       "d1mm9tcy42                                             0   \n",
       "d1mm9tcy42                                             0   \n",
       "d1mm9tcy42                                             0   \n",
       "\n",
       "            device_type_Android Phone  device_type_Linux Desktop  \\\n",
       "user_id                                                            \n",
       "d1mm9tcy42                          0                          0   \n",
       "d1mm9tcy42                          0                          0   \n",
       "d1mm9tcy42                          0                          0   \n",
       "d1mm9tcy42                          0                          0   \n",
       "d1mm9tcy42                          0                          0   \n",
       "\n",
       "            device_type_Mac Desktop  device_type_Windows Desktop  \\\n",
       "user_id                                                            \n",
       "d1mm9tcy42                        0                            1   \n",
       "d1mm9tcy42                        0                            1   \n",
       "d1mm9tcy42                        0                            1   \n",
       "d1mm9tcy42                        0                            1   \n",
       "d1mm9tcy42                        0                            1   \n",
       "\n",
       "            device_type_iPad Tablet  device_type_iPhone  \n",
       "user_id                                                  \n",
       "d1mm9tcy42                        0                   0  \n",
       "d1mm9tcy42                        0                   0  \n",
       "d1mm9tcy42                        0                   0  \n",
       "d1mm9tcy42                        0                   0  \n",
       "d1mm9tcy42                        0                   0  \n",
       "\n",
       "[5 rows x 209 columns]"
      ]
     },
     "execution_count": 13,
     "metadata": {},
     "output_type": "execute_result"
    }
   ],
   "source": [
    "# One Hot Encodingb\n",
    "sesh_dummies = pd.get_dummies(sesh)\n",
    "sesh_dummies.head()"
   ]
  },
  {
   "cell_type": "code",
   "execution_count": 10,
   "metadata": {},
   "outputs": [
    {
     "data": {
      "text/html": [
       "<div>\n",
       "<style>\n",
       "    .dataframe thead tr:only-child th {\n",
       "        text-align: right;\n",
       "    }\n",
       "\n",
       "    .dataframe thead th {\n",
       "        text-align: left;\n",
       "    }\n",
       "\n",
       "    .dataframe tbody tr th {\n",
       "        vertical-align: top;\n",
       "    }\n",
       "</style>\n",
       "<table border=\"1\" class=\"dataframe\">\n",
       "  <thead>\n",
       "    <tr style=\"text-align: right;\">\n",
       "      <th></th>\n",
       "      <th>secs_elapsed</th>\n",
       "      <th>action_10</th>\n",
       "      <th>action_12</th>\n",
       "      <th>action_15</th>\n",
       "      <th>action_account</th>\n",
       "      <th>action_active</th>\n",
       "      <th>action_add_guests</th>\n",
       "      <th>action_ajax_check_dates</th>\n",
       "      <th>action_ajax_google_translate_description</th>\n",
       "      <th>action_ajax_image_upload</th>\n",
       "      <th>...</th>\n",
       "      <th>action_detail_your_listings</th>\n",
       "      <th>action_detail_your_trips</th>\n",
       "      <th>device_type_-unknown-</th>\n",
       "      <th>device_type_Android App Unknown Phone/Tablet</th>\n",
       "      <th>device_type_Android Phone</th>\n",
       "      <th>device_type_Linux Desktop</th>\n",
       "      <th>device_type_Mac Desktop</th>\n",
       "      <th>device_type_Windows Desktop</th>\n",
       "      <th>device_type_iPad Tablet</th>\n",
       "      <th>device_type_iPhone</th>\n",
       "    </tr>\n",
       "    <tr>\n",
       "      <th>id</th>\n",
       "      <th></th>\n",
       "      <th></th>\n",
       "      <th></th>\n",
       "      <th></th>\n",
       "      <th></th>\n",
       "      <th></th>\n",
       "      <th></th>\n",
       "      <th></th>\n",
       "      <th></th>\n",
       "      <th></th>\n",
       "      <th></th>\n",
       "      <th></th>\n",
       "      <th></th>\n",
       "      <th></th>\n",
       "      <th></th>\n",
       "      <th></th>\n",
       "      <th></th>\n",
       "      <th></th>\n",
       "      <th></th>\n",
       "      <th></th>\n",
       "      <th></th>\n",
       "    </tr>\n",
       "  </thead>\n",
       "  <tbody>\n",
       "    <tr>\n",
       "      <th>NaN</th>\n",
       "      <td>0.0</td>\n",
       "      <td>0.0</td>\n",
       "      <td>0.0</td>\n",
       "      <td>0.0</td>\n",
       "      <td>0.0</td>\n",
       "      <td>0.0</td>\n",
       "      <td>0.0</td>\n",
       "      <td>0.0</td>\n",
       "      <td>0.0</td>\n",
       "      <td>0.0</td>\n",
       "      <td>...</td>\n",
       "      <td>0.0</td>\n",
       "      <td>0.0</td>\n",
       "      <td>0.0</td>\n",
       "      <td>0.0</td>\n",
       "      <td>0.0</td>\n",
       "      <td>0.0</td>\n",
       "      <td>0.0</td>\n",
       "      <td>0.0</td>\n",
       "      <td>0.0</td>\n",
       "      <td>0.0</td>\n",
       "    </tr>\n",
       "    <tr>\n",
       "      <th>mde5wnphhf</th>\n",
       "      <td>903948.0</td>\n",
       "      <td>0.0</td>\n",
       "      <td>0.0</td>\n",
       "      <td>0.0</td>\n",
       "      <td>0.0</td>\n",
       "      <td>0.0</td>\n",
       "      <td>0.0</td>\n",
       "      <td>0.0</td>\n",
       "      <td>0.0</td>\n",
       "      <td>0.0</td>\n",
       "      <td>...</td>\n",
       "      <td>0.0</td>\n",
       "      <td>0.0</td>\n",
       "      <td>0.0</td>\n",
       "      <td>0.0</td>\n",
       "      <td>0.0</td>\n",
       "      <td>0.0</td>\n",
       "      <td>37.0</td>\n",
       "      <td>0.0</td>\n",
       "      <td>0.0</td>\n",
       "      <td>0.0</td>\n",
       "    </tr>\n",
       "    <tr>\n",
       "      <th>rlzzowgaji</th>\n",
       "      <td>331110.0</td>\n",
       "      <td>0.0</td>\n",
       "      <td>0.0</td>\n",
       "      <td>0.0</td>\n",
       "      <td>0.0</td>\n",
       "      <td>0.0</td>\n",
       "      <td>0.0</td>\n",
       "      <td>0.0</td>\n",
       "      <td>0.0</td>\n",
       "      <td>0.0</td>\n",
       "      <td>...</td>\n",
       "      <td>0.0</td>\n",
       "      <td>0.0</td>\n",
       "      <td>0.0</td>\n",
       "      <td>0.0</td>\n",
       "      <td>0.0</td>\n",
       "      <td>0.0</td>\n",
       "      <td>11.0</td>\n",
       "      <td>0.0</td>\n",
       "      <td>0.0</td>\n",
       "      <td>0.0</td>\n",
       "    </tr>\n",
       "    <tr>\n",
       "      <th>mrvjvk6ycy</th>\n",
       "      <td>1166019.0</td>\n",
       "      <td>0.0</td>\n",
       "      <td>0.0</td>\n",
       "      <td>0.0</td>\n",
       "      <td>0.0</td>\n",
       "      <td>0.0</td>\n",
       "      <td>0.0</td>\n",
       "      <td>0.0</td>\n",
       "      <td>0.0</td>\n",
       "      <td>0.0</td>\n",
       "      <td>...</td>\n",
       "      <td>0.0</td>\n",
       "      <td>1.0</td>\n",
       "      <td>0.0</td>\n",
       "      <td>0.0</td>\n",
       "      <td>0.0</td>\n",
       "      <td>0.0</td>\n",
       "      <td>127.0</td>\n",
       "      <td>0.0</td>\n",
       "      <td>0.0</td>\n",
       "      <td>0.0</td>\n",
       "    </tr>\n",
       "    <tr>\n",
       "      <th>1066rvqlm6</th>\n",
       "      <td>1043723.0</td>\n",
       "      <td>0.0</td>\n",
       "      <td>0.0</td>\n",
       "      <td>0.0</td>\n",
       "      <td>0.0</td>\n",
       "      <td>0.0</td>\n",
       "      <td>0.0</td>\n",
       "      <td>0.0</td>\n",
       "      <td>0.0</td>\n",
       "      <td>0.0</td>\n",
       "      <td>...</td>\n",
       "      <td>0.0</td>\n",
       "      <td>0.0</td>\n",
       "      <td>0.0</td>\n",
       "      <td>0.0</td>\n",
       "      <td>0.0</td>\n",
       "      <td>0.0</td>\n",
       "      <td>73.0</td>\n",
       "      <td>0.0</td>\n",
       "      <td>0.0</td>\n",
       "      <td>0.0</td>\n",
       "    </tr>\n",
       "  </tbody>\n",
       "</table>\n",
       "<p>5 rows × 209 columns</p>\n",
       "</div>"
      ],
      "text/plain": [
       "            secs_elapsed  action_10  action_12  action_15  action_account  \\\n",
       "id                                                                          \n",
       "NaN                  0.0        0.0        0.0        0.0             0.0   \n",
       "mde5wnphhf      903948.0        0.0        0.0        0.0             0.0   \n",
       "rlzzowgaji      331110.0        0.0        0.0        0.0             0.0   \n",
       "mrvjvk6ycy     1166019.0        0.0        0.0        0.0             0.0   \n",
       "1066rvqlm6     1043723.0        0.0        0.0        0.0             0.0   \n",
       "\n",
       "            action_active  action_add_guests  action_ajax_check_dates  \\\n",
       "id                                                                      \n",
       "NaN                   0.0                0.0                      0.0   \n",
       "mde5wnphhf            0.0                0.0                      0.0   \n",
       "rlzzowgaji            0.0                0.0                      0.0   \n",
       "mrvjvk6ycy            0.0                0.0                      0.0   \n",
       "1066rvqlm6            0.0                0.0                      0.0   \n",
       "\n",
       "            action_ajax_google_translate_description  \\\n",
       "id                                                     \n",
       "NaN                                              0.0   \n",
       "mde5wnphhf                                       0.0   \n",
       "rlzzowgaji                                       0.0   \n",
       "mrvjvk6ycy                                       0.0   \n",
       "1066rvqlm6                                       0.0   \n",
       "\n",
       "            action_ajax_image_upload         ...          \\\n",
       "id                                           ...           \n",
       "NaN                              0.0         ...           \n",
       "mde5wnphhf                       0.0         ...           \n",
       "rlzzowgaji                       0.0         ...           \n",
       "mrvjvk6ycy                       0.0         ...           \n",
       "1066rvqlm6                       0.0         ...           \n",
       "\n",
       "            action_detail_your_listings  action_detail_your_trips  \\\n",
       "id                                                                  \n",
       "NaN                                 0.0                       0.0   \n",
       "mde5wnphhf                          0.0                       0.0   \n",
       "rlzzowgaji                          0.0                       0.0   \n",
       "mrvjvk6ycy                          0.0                       1.0   \n",
       "1066rvqlm6                          0.0                       0.0   \n",
       "\n",
       "            device_type_-unknown-  \\\n",
       "id                                  \n",
       "NaN                           0.0   \n",
       "mde5wnphhf                    0.0   \n",
       "rlzzowgaji                    0.0   \n",
       "mrvjvk6ycy                    0.0   \n",
       "1066rvqlm6                    0.0   \n",
       "\n",
       "            device_type_Android App Unknown Phone/Tablet  \\\n",
       "id                                                         \n",
       "NaN                                                  0.0   \n",
       "mde5wnphhf                                           0.0   \n",
       "rlzzowgaji                                           0.0   \n",
       "mrvjvk6ycy                                           0.0   \n",
       "1066rvqlm6                                           0.0   \n",
       "\n",
       "            device_type_Android Phone  device_type_Linux Desktop  \\\n",
       "id                                                                 \n",
       "NaN                               0.0                        0.0   \n",
       "mde5wnphhf                        0.0                        0.0   \n",
       "rlzzowgaji                        0.0                        0.0   \n",
       "mrvjvk6ycy                        0.0                        0.0   \n",
       "1066rvqlm6                        0.0                        0.0   \n",
       "\n",
       "            device_type_Mac Desktop  device_type_Windows Desktop  \\\n",
       "id                                                                 \n",
       "NaN                             0.0                          0.0   \n",
       "mde5wnphhf                     37.0                          0.0   \n",
       "rlzzowgaji                     11.0                          0.0   \n",
       "mrvjvk6ycy                    127.0                          0.0   \n",
       "1066rvqlm6                     73.0                          0.0   \n",
       "\n",
       "            device_type_iPad Tablet  device_type_iPhone  \n",
       "id                                                       \n",
       "NaN                             0.0                 0.0  \n",
       "mde5wnphhf                      0.0                 0.0  \n",
       "rlzzowgaji                      0.0                 0.0  \n",
       "mrvjvk6ycy                      0.0                 0.0  \n",
       "1066rvqlm6                      0.0                 0.0  \n",
       "\n",
       "[5 rows x 209 columns]"
      ]
     },
     "execution_count": 10,
     "metadata": {},
     "output_type": "execute_result"
    }
   ],
   "source": [
    "# Combine all users sessions\n",
    "full_sesh = pd.DataFrame()\n",
    "for i in user_ids:\n",
    "    df = sesh_dummies.loc[sesh_dummies.index == i] # Filters by id\n",
    "    values = df.sum(axis=0) # Sums values vertically\n",
    "    row = values.to_frame().T # Trasnposed data\n",
    "    row['id'] = i\n",
    "    full_sesh = full_sesh.append(row) # Adds row to df \n",
    "\n",
    "full_sesh.set_index('id', inplace=True) # Reset index\n",
    "full_sesh.head()"
   ]
  },
  {
   "cell_type": "markdown",
   "metadata": {},
   "source": [
    "Create additional features if an action was ever performed."
   ]
  },
  {
   "cell_type": "code",
   "execution_count": null,
   "metadata": {
    "collapsed": true
   },
   "outputs": [],
   "source": [
    "# Create binary column if action was ever performed\n",
    "def create_column_1_0(df, colnamelist):\n",
    "    '''Creates a new binary column'''\n",
    "    for colname in colnamelist:\n",
    "        items = list(df['{}'.format(colname)]) #Paste colname in\n",
    "        new_items = [x if x == 0 else 1 for x in items] #If value is not zero make it a 1\n",
    "        df['{}_0_1'.format(colname)] = new_items\n",
    "        \n",
    "    return df\n",
    "\n",
    "colnames_to_convert = list(full_sesh)[1:full_sesh.shape[1]] # Create list of colnames\n",
    "full_sesh = create_column_1_0(full_sesh, colnames_to_convert) # Create new binary columns\n",
    "full_sesh.reindex_axis(sorted(full_sesh.columns), axis=1) # Order colnames alphabetically"
   ]
  },
  {
   "cell_type": "markdown",
   "metadata": {},
   "source": [
    "### Session Times"
   ]
  },
  {
   "cell_type": "code",
   "execution_count": null,
   "metadata": {
    "collapsed": true
   },
   "outputs": [],
   "source": [
    "# Calculate min max mean for session times\n",
    "sesh_times = pd.DataFrame()\n",
    "\n",
    "for i in user_ids:\n",
    "    if type(i) == str:\n",
    "        df = times.loc[times.index == i] # Filters by id\n",
    "\n",
    "        user_times = list(df['secs_elapsed']) # Create list of times\n",
    "        user_times = [x for x in user_times if str(x) != 'nan'] # Remove nan\n",
    "\n",
    "        if user_times != []:\n",
    "            row_min = min(user_times) # Calc min\n",
    " \n",
    "            row_max = max(user_times) # Calc max\n",
    "            row_mean = np.mean(user_times) # Calc mean\n",
    "            row_sum = np.sum(user_times) # Calc total\n",
    "\n",
    "            if len(user_times) > 1: # If sessions > 1 calc standar deviation and how many \n",
    "                row_std = np.std(user_times) \n",
    "                row_len = len(user_times)  \n",
    "        else: # if there is not time data \n",
    "            row_min = 0\n",
    "            row_max = 0\n",
    "            row_mean = 0\n",
    "            row_sum = 0\n",
    "            row_std = 0\n",
    "            row_len = 0\n",
    "\n",
    "        row_id = i\n",
    "        row = pd.DataFrame(data={'id': [row_id], 'session_time_min': [row_min], \n",
    "                                'session_time_max': [row_max], 'session_time_mean': [row_mean], \n",
    "                                'session_time_std': [row_std], 'session_time_total': [row_sum], \n",
    "                                 'session_count': [row_len]})\n",
    "        \n",
    "        sesh_times = row.append(sesh_times)\n",
    "\n",
    "sesh_times.set_index('id', inplace=True)\n",
    "\n",
    "# Inspect\n",
    "print('Session times dataframe size: {}'.format(sesh_times.shape))\n",
    "sesh_times.head(5)"
   ]
  },
  {
   "cell_type": "code",
   "execution_count": null,
   "metadata": {
    "collapsed": true
   },
   "outputs": [],
   "source": [
    "# Combine time data and combine dubs\n",
    "sesh_times = sesh_times.groupby(sesh_times.index).sum()\n",
    "full_session = sesh_times.join(full_sesh)"
   ]
  },
  {
   "cell_type": "code",
   "execution_count": null,
   "metadata": {
    "collapsed": true
   },
   "outputs": [],
   "source": [
    "# Export data\n",
    "full_session.to_csv('data/sessions_clnd.csv')"
   ]
  },
  {
   "cell_type": "markdown",
   "metadata": {},
   "source": [
    "### Remaining"
   ]
  },
  {
   "cell_type": "markdown",
   "metadata": {},
   "source": [
    "#### User Data Cleaning"
   ]
  },
  {
   "cell_type": "code",
   "execution_count": null,
   "metadata": {
    "collapsed": true
   },
   "outputs": [],
   "source": [
    "# Load Train\n",
    "train_users_2 = pd.read_csv('data/Original/train_users_2.csv', index_col = 0) \n",
    "\n",
    "# Create column if there was a destination made\n",
    "destinations = train_users_2['country_destination']\n",
    "made_reservation = [0 if x == 'NDF' else 1 for x in destinations]\n",
    "train_users_2['made_reservation'] = made_reservation\n",
    "\n",
    "# Create column for time from first active to first booking\n",
    "train_users_2['date_account_created'] = pd.to_datetime(train_users_2['date_account_created'])\n",
    "train_users_2['date_first_booking'] = pd.to_datetime(train_users_2['date_first_booking'])\n",
    "train_users_2['elapsed_time'] = train_users_2['date_first_booking'] - train_users_2['date_account_created']"
   ]
  },
  {
   "cell_type": "code",
   "execution_count": null,
   "metadata": {
    "collapsed": true
   },
   "outputs": [],
   "source": [
    "# Export\n",
    "train = pd.merge(train_users_2, full_session, left_index = True, right_index=True)\n",
    "train.to_csv('data/train.csv')"
   ]
  },
  {
   "cell_type": "markdown",
   "metadata": {},
   "source": [
    "## Exploratoty Data Analysis"
   ]
  },
  {
   "cell_type": "markdown",
   "metadata": {},
   "source": [
    "Explorartoy analzys to get a feel for the data and see if anything stands out. Took subset of 1000 users who made a reservation and 1000 who did not make a reservation."
   ]
  },
  {
   "cell_type": "code",
   "execution_count": 3,
   "metadata": {
    "collapsed": true
   },
   "outputs": [],
   "source": [
    "train = pd.read_csv('data/train.csv', index_col = 0)\n",
    "\n",
    "# Subest training data 1000 reserved and 1000 not reserved\n",
    "reserved = train.loc[train.made_reservation == 1][0:1000]\n",
    "not_reserved = train.loc[train.made_reservation == 0][0:1000]\n",
    "\n",
    "eda_data = reserved.append(not_reserved)"
   ]
  },
  {
   "cell_type": "markdown",
   "metadata": {},
   "source": [
    "### Feature Importance"
   ]
  },
  {
   "cell_type": "markdown",
   "metadata": {},
   "source": [
    "To extract the most important features I used a Random Forest. "
   ]
  },
  {
   "cell_type": "code",
   "execution_count": 19,
   "metadata": {
    "scrolled": true
   },
   "outputs": [
    {
     "data": {
      "text/plain": [
       "RandomForestClassifier(bootstrap=True, class_weight=None, criterion='gini',\n",
       "            max_depth=None, max_features='auto', max_leaf_nodes=None,\n",
       "            min_impurity_decrease=0.0, min_impurity_split=None,\n",
       "            min_samples_leaf=1, min_samples_split=2,\n",
       "            min_weight_fraction_leaf=0.0, n_estimators=10, n_jobs=2,\n",
       "            oob_score=False, random_state=0, verbose=0, warm_start=False)"
      ]
     },
     "execution_count": 19,
     "metadata": {},
     "output_type": "execute_result"
    }
   ],
   "source": [
    "# Set random seed\n",
    "np.random.seed(123)\n",
    "\n",
    "# Make data all numeric\n",
    "df = eda_data.drop(['made_reservation', 'date_account_created', 'timestamp_first_active', 'date_first_booking', 'elapsed_time', 'country_destination'], axis=1)\n",
    "df = pd.get_dummies(df)\n",
    "df = df.fillna(0)\n",
    "\n",
    "y = pd.factorize(eda_data.made_reservation)[0]\n",
    "features = df.drop(['made_reservation'])\n",
    "         \n",
    "clf = RandomForestClassifier(n_jobs=2, random_state=0)\n",
    "clf.fit(features, y)"
   ]
  },
  {
   "cell_type": "code",
   "execution_count": 20,
   "metadata": {
    "collapsed": true
   },
   "outputs": [],
   "source": [
    "# Create df of feature importance\n",
    "feats = pd.DataFrame(clf.feature_importances_, df.columns)\n",
    "feats.columns = ['importance']\n",
    "feats = feats.sort_values(by='importance', ascending=False)\n",
    "top_20_feats = feats.head(20)"
   ]
  },
  {
   "cell_type": "code",
   "execution_count": 21,
   "metadata": {
    "scrolled": true
   },
   "outputs": [
    {
     "data": {
      "image/png": "[encoded data removed]",
      "text/plain": [
       "<matplotlib.figure.Figure at 0x7f3feb342f50>"
      ]
     },
     "metadata": {},
     "output_type": "display_data"
    }
   ],
   "source": [
    "# Plot Feature importance\n",
    "sns.barplot(x='importance', y=top_20_feats.index, data=top_20_feats)\n",
    "plt.ylabel('Features')\n",
    "plt.xlabel('Importance')\n",
    "plt.title('Top 20 Important Features')\n",
    "\n",
    "plt.show()"
   ]
  },
  {
   "cell_type": "markdown",
   "metadata": {},
   "source": [
    "We can see that Session times play a major role in predicting if a user will make a reservation or not. Lets take a closer look at this. "
   ]
  },
  {
   "cell_type": "markdown",
   "metadata": {},
   "source": [
    "### Session Times"
   ]
  },
  {
   "cell_type": "code",
   "execution_count": 22,
   "metadata": {
    "collapsed": true
   },
   "outputs": [],
   "source": [
    "sesh = pd.read_csv('data/Original/sessions.csv', index_col = 0)\n",
    "times = pd.DataFrame(sesh.secs_elapsed)"
   ]
  },
  {
   "cell_type": "code",
   "execution_count": 23,
   "metadata": {
    "collapsed": true
   },
   "outputs": [],
   "source": [
    "res = pd.DataFrame(eda_data.made_reservation)\n",
    "\n",
    "df3 = pd.merge(res, times, left_index=True, right_index=True)\n",
    "df3 = pd.DataFrame(df3.secs_elapsed[~np.isnan(df3.secs_elapsed)])"
   ]
  },
  {
   "cell_type": "code",
   "execution_count": 24,
   "metadata": {},
   "outputs": [
    {
     "data": {
      "image/png": "[encoded data removed]",
      "text/plain": [
       "<matplotlib.figure.Figure at 0x7f3fecd040d0>"
      ]
     },
     "metadata": {},
     "output_type": "display_data"
    },
    {
     "data": {
      "image/png": "[encoded data removed]",
      "text/plain": [
       "<matplotlib.figure.Figure at 0x7f3feb038590>"
      ]
     },
     "metadata": {},
     "output_type": "display_data"
    },
    {
     "data": {
      "image/png": "[encoded data removed]",
      "text/plain": [
       "<matplotlib.figure.Figure at 0x7f3fed0c0750>"
      ]
     },
     "metadata": {},
     "output_type": "display_data"
    }
   ],
   "source": [
    "sns.boxplot(x=\"secs_elapsed\", data=df3[df3.secs_elapsed < 4000])\n",
    "plt.xlabel('Elapsed Time In Seconds')\n",
    "plt.title('Elapsed Time Limited to Under 4000')\n",
    "\n",
    "plt.show()\n",
    "\n",
    "sns.boxplot(x=\"made_reservation\", y='session_time_total', data=eda_data)\n",
    "plt.ylabel('Total Session Time in Minutes')\n",
    "plt.xlabel('Made Reservation')\n",
    "plt.title('Total Session Time by Made Reservation or Not')\n",
    "plt.show()\n",
    "\n",
    "sns.boxplot(x=\"made_reservation\", y='session_time_total', data=eda_data[eda_data.session_time_total < 10000])\n",
    "plt.ylabel('Total Session Time')\n",
    "plt.xlabel('Made Reservation')\n",
    "plt.title('Total Session Time by Made Reservation or Not: Limited to Under 10000')\n",
    "plt.show()"
   ]
  },
  {
   "cell_type": "code",
   "execution_count": 25,
   "metadata": {},
   "outputs": [
    {
     "name": "stdout",
     "output_type": "stream",
     "text": [
      "Reserved Session Time Total Mean: 1903082.381\n",
      "Not Reserved Session Time Total Mean: 1303876.259\n"
     ]
    }
   ],
   "source": [
    "print('Reserved Session Time Total Mean: {}'.format(eda_data[eda_data.made_reservation == 1].session_time_total.mean()))\n",
    "print('Not Reserved Session Time Total Mean: {}'.format(eda_data[eda_data.made_reservation == 0].session_time_total.mean()))"
   ]
  },
  {
   "cell_type": "markdown",
   "metadata": {},
   "source": [
    "We immediately see that users who made a reserveation tend to spend less time logged in. But what is the significant cut off."
   ]
  },
  {
   "cell_type": "markdown",
   "metadata": {},
   "source": [
    "## Session Count"
   ]
  },
  {
   "cell_type": "code",
   "execution_count": 26,
   "metadata": {},
   "outputs": [
    {
     "data": {
      "image/png": "[encoded data removed]",
      "text/plain": [
       "<matplotlib.figure.Figure at 0x7f3fed0e1bd0>"
      ]
     },
     "metadata": {},
     "output_type": "display_data"
    },
    {
     "data": {
      "image/png": "[encoded data removed]",
      "text/plain": [
       "<matplotlib.figure.Figure at 0x7f3fbf69e350>"
      ]
     },
     "metadata": {},
     "output_type": "display_data"
    }
   ],
   "source": [
    "sns.boxplot(x=\"made_reservation\", y=\"session_count\", data=eda_data)\n",
    "plt.ylabel('Session Count')\n",
    "plt.xlabel('Made Reservation')\n",
    "plt.title('Session Count by Made Reservation or Not')\n",
    "plt.show()\n",
    "\n",
    "sns.boxplot(x=\"made_reservation\", y=\"session_count\", data=eda_data[eda_data.session_count < 250 ])\n",
    "plt.ylabel('Session Count')\n",
    "plt.xlabel('Made Reservation')\n",
    "plt.title('Session Count by Made Reservation or Not: Limited to Under 250')\n",
    "plt.show()"
   ]
  },
  {
   "cell_type": "code",
   "execution_count": 27,
   "metadata": {},
   "outputs": [
    {
     "name": "stdout",
     "output_type": "stream",
     "text": [
      "Reserved Session Count Mean: 89.782\n",
      "Not Reserved Session Count Mean: 71.76\n"
     ]
    }
   ],
   "source": [
    "print('Reserved Session Count Mean: {}'.format(eda_data[eda_data.made_reservation == 1].session_count.mean()))\n",
    "print('Not Reserved Session Count Mean: {}'.format(eda_data[eda_data.made_reservation == 0].session_count.mean()))"
   ]
  },
  {
   "cell_type": "markdown",
   "metadata": {},
   "source": [
    "From the boxplot above we see that users who make a reservation tend to have more session login."
   ]
  },
  {
   "cell_type": "markdown",
   "metadata": {},
   "source": [
    "### Time From Account Creation to Booking"
   ]
  },
  {
   "cell_type": "code",
   "execution_count": 28,
   "metadata": {
    "collapsed": true
   },
   "outputs": [],
   "source": [
    "reserved.elapsed_time = pd.to_numeric(reserved.elapsed_time.map(lambda x: str(x)[:-24]))"
   ]
  },
  {
   "cell_type": "code",
   "execution_count": 29,
   "metadata": {},
   "outputs": [
    {
     "data": {
      "image/png": "[encoded data removed]",
      "text/plain": [
       "<matplotlib.figure.Figure at 0x7f3fcc80ef10>"
      ]
     },
     "metadata": {},
     "output_type": "display_data"
    },
    {
     "data": {
      "image/png": "[encoded data removed]",
      "text/plain": [
       "<matplotlib.figure.Figure at 0x7f3fed65a710>"
      ]
     },
     "metadata": {},
     "output_type": "display_data"
    }
   ],
   "source": [
    "# Create histogram plot\n",
    "plt.hist(reserved.elapsed_time, bins = 40)\n",
    "plt.xlabel('Days')\n",
    "plt.ylabel('Frequency')\n",
    "plt.title('Distribution of Days From Account Creation to First Reservation')\n",
    "\n",
    "plt.show()"
   ]
  },
  {
   "cell_type": "markdown",
   "metadata": {},
   "source": [
    "Most users will create their account and make a resevation in the same day."
   ]
  },
  {
   "cell_type": "markdown",
   "metadata": {},
   "source": [
    "### Age"
   ]
  },
  {
   "cell_type": "code",
   "execution_count": 4,
   "metadata": {},
   "outputs": [
    {
     "name": "stderr",
     "output_type": "stream",
     "text": [
      "/anaconda3/lib/python3.6/site-packages/ipykernel_launcher.py:3: SettingWithCopyWarning: \n",
      "A value is trying to be set on a copy of a slice from a DataFrame\n",
      "\n",
      "See the caveats in the documentation: http://pandas.pydata.org/pandas-docs/stable/indexing.html#indexing-view-versus-copy\n",
      "  This is separate from the ipykernel package so we can avoid doing imports until\n"
     ]
    },
    {
     "data": {
      "image/png": "[encoded data removed]",
      "text/plain": [
       "<matplotlib.figure.Figure at 0x1a0f6414e0>"
      ]
     },
     "metadata": {},
     "output_type": "display_data"
    }
   ],
   "source": [
    "# Discovered invalid ages above 200\n",
    "# Replaced invalid ages is NaN\n",
    "eda_data.age[eda_data.age > 110] = np.NaN\n",
    "\n",
    "# Create histogram plot\n",
    "plt.hist(eda_data.age[~np.isnan(eda_data.age)], bins=20)\n",
    "plt.xlabel('Age')\n",
    "plt.ylabel('Frequency')\n",
    "plt.title('Distribution of Ages')\n",
    "\n",
    "plt.show()"
   ]
  },
  {
   "cell_type": "markdown",
   "metadata": {},
   "source": [
    "## Gender"
   ]
  },
  {
   "cell_type": "code",
   "execution_count": 32,
   "metadata": {
    "scrolled": true
   },
   "outputs": [
    {
     "data": {
      "image/png": "[encoded data removed]",
      "text/plain": [
       "<matplotlib.figure.Figure at 0x7f3fed65a1d0>"
      ]
     },
     "metadata": {},
     "output_type": "display_data"
    }
   ],
   "source": [
    "sns.countplot(x='gender', hue='made_reservation', data=eda_data)\n",
    "plt.ylabel('Frequency')\n",
    "plt.xlabel('Gender')\n",
    "plt.title('Distribution of Genders')\n",
    "\n",
    "plt.show()"
   ]
  },
  {
   "cell_type": "markdown",
   "metadata": {},
   "source": [
    "### Signup Method"
   ]
  },
  {
   "cell_type": "code",
   "execution_count": 33,
   "metadata": {},
   "outputs": [
    {
     "data": {
      "image/png": "[encoded data removed]",
      "text/plain": [
       "<matplotlib.figure.Figure at 0x7f3fb8200310>"
      ]
     },
     "metadata": {},
     "output_type": "display_data"
    }
   ],
   "source": [
    "sns.countplot(x='signup_method', hue='made_reservation', data=eda_data)\n",
    "plt.ylabel('Frequency')\n",
    "plt.xlabel('Signup Method')\n",
    "plt.title('Signup Method')\n",
    "\n",
    "plt.show()"
   ]
  },
  {
   "cell_type": "markdown",
   "metadata": {},
   "source": [
    "# Modeling"
   ]
  },
  {
   "cell_type": "markdown",
   "metadata": {},
   "source": [
    "## Load Data"
   ]
  },
  {
   "cell_type": "code",
   "execution_count": 34,
   "metadata": {
    "scrolled": true
   },
   "outputs": [
    {
     "data": {
      "text/plain": [
       "(73869, 850)"
      ]
     },
     "execution_count": 34,
     "metadata": {},
     "output_type": "execute_result"
    }
   ],
   "source": [
    "# Load train data\n",
    "data = pd.read_csv('data/train.csv', index_col = 0)\n",
    "data.shape"
   ]
  },
  {
   "cell_type": "code",
   "execution_count": 35,
   "metadata": {
    "collapsed": true
   },
   "outputs": [],
   "source": [
    "# Create booking rate for age bins\n",
    "reservation = data.made_reservation\n",
    "age = data.age\n",
    "age = age.fillna(0) # Fill na so crosstabe calculates for NaN\n",
    "\n",
    "age_table = pd.crosstab(age, reservation)\n",
    "age_booking_rate = dict(age_table[1] / age_table.sum(axis=1))\n",
    "ages_br = [age_booking_rate.get(item,item) for item in list(age)]\n",
    "\n",
    "# Replace age\n",
    "data.age = ages_br"
   ]
  },
  {
   "cell_type": "code",
   "execution_count": 36,
   "metadata": {
    "collapsed": true
   },
   "outputs": [],
   "source": [
    "# Filter top n featurs from random forest\n",
    "data =  pd.get_dummies(data)\n",
    "\n",
    "features = list(feats.head(20).index)\n",
    "# features.remove('age') #Removes for normalization\n",
    "data = data[features]"
   ]
  },
  {
   "cell_type": "markdown",
   "metadata": {},
   "source": [
    "## Build Model"
   ]
  },
  {
   "cell_type": "code",
   "execution_count": 37,
   "metadata": {
    "collapsed": true
   },
   "outputs": [],
   "source": [
    "# Normalize\n",
    "data = (data - data.mean()) / (data.max() - data.min())"
   ]
  },
  {
   "cell_type": "code",
   "execution_count": 39,
   "metadata": {
    "scrolled": true
   },
   "outputs": [
    {
     "data": {
      "text/plain": [
       "XGBClassifier(base_score=0.5, booster='gbtree', colsample_bylevel=1,\n",
       "       colsample_bytree=1, gamma=0, learning_rate=0.05, max_delta_step=0,\n",
       "       max_depth=4, min_child_weight=1, missing=None, n_estimators=300,\n",
       "       n_jobs=1, nthread=None, objective='binary:logistic', random_state=0,\n",
       "       reg_alpha=0, reg_lambda=1, scale_pos_weight=1, seed=None,\n",
       "       silent=True, subsample=1)"
      ]
     },
     "execution_count": 39,
     "metadata": {},
     "output_type": "execute_result"
    }
   ],
   "source": [
    "from sklearn.model_selection import train_test_split\n",
    "from sklearn.linear_model import LogisticRegression\n",
    "from sklearn import svm\n",
    "from sklearn.neighbors import KNeighborsClassifier\n",
    "from sklearn.naive_bayes import GaussianNB\n",
    "import xgboost as xgb\n",
    "\n",
    "# Split data into testing and training\n",
    "X_train, X_test, y_train, y_test = train_test_split(data, reservation, test_size=0.3, random_state=0)\n",
    "\n",
    "# Models with 70/30 split\n",
    "# Logistic Regression\n",
    "logreg = LogisticRegression()\n",
    "logreg.fit(X_train, y_train)\n",
    "\n",
    "# Support Vector Machine\n",
    "svmachine = svm.SVC()\n",
    "svmachine.fit(X_train, y_train)\n",
    "\n",
    "# k Nearest Neighbor\n",
    "knneighbor = KNeighborsClassifier(n_neighbors=100)\n",
    "knneighbor.fit(X_train, y_train)\n",
    "\n",
    "# Naive Bayes\n",
    "nbayes = GaussianNB()\n",
    "nbayes.fit(X_train, y_train)\n",
    "\n",
    "# XGBoost\n",
    "xgboost = xgb.XGBClassifier(max_depth=4, n_estimators=300, learning_rate=0.05)\n",
    "xgboost.fit(X_train, y_train)"
   ]
  },
  {
   "cell_type": "code",
   "execution_count": 40,
   "metadata": {},
   "outputs": [
    {
     "name": "stderr",
     "output_type": "stream",
     "text": [
      "/home/ubuntu/anaconda2/lib/python2.7/site-packages/sklearn/preprocessing/label.py:151: DeprecationWarning: The truth value of an empty array is ambiguous. Returning False, but in future this will result in an error. Use `array.size > 0` to check that an array is not empty.\n",
      "  if diff:\n",
      "/home/ubuntu/anaconda2/lib/python2.7/site-packages/sklearn/preprocessing/label.py:151: DeprecationWarning: The truth value of an empty array is ambiguous. Returning False, but in future this will result in an error. Use `array.size > 0` to check that an array is not empty.\n",
      "  if diff:\n"
     ]
    }
   ],
   "source": [
    "# Calculate Accuracies\n",
    "# Logistic Regression\n",
    "logreg_pred = logreg.predict(X_test)\n",
    "logreg_accuracy = logreg.score(X_test, y_test) * 100\n",
    "\n",
    "# Support Vector Machine\n",
    "svmachine_pred = svmachine.predict(X_test)\n",
    "svmachine_accuracy = svmachine.score(X_test, y_test) * 100\n",
    "\n",
    "# k Nearest Neighbor\n",
    "knneighbor_pred = knneighbor.predict(X_test)\n",
    "knneighbor_accuracy = knneighbor.score(X_test, y_test) * 100\n",
    "\n",
    "# Naive Bayes\n",
    "nbayes_pred = nbayes.predict(X_test)\n",
    "nbayes_accuracy = nbayes.score(X_test, y_test) * 100\n",
    "\n",
    "# XGBoost\n",
    "xgboost_pred = xgboost.predict(X_test)\n",
    "xgboost_accuracy = xgboost.score(X_test, y_test) * 100"
   ]
  },
  {
   "cell_type": "code",
   "execution_count": 41,
   "metadata": {},
   "outputs": [
    {
     "name": "stdout",
     "output_type": "stream",
     "text": [
      "Accuracy of Logistic Regression: 74.1798655295%\n",
      "Accuracy of Support Vector Machine: 72.9976084112%\n",
      "Accuracy of k-Nearest Neighbor: 74.5273227742%\n",
      "Accuracy of Naive Bayes Gaussian: 70.461621768%\n",
      "Accuracy of XGBoost: 75.7186047561%\n"
     ]
    }
   ],
   "source": [
    "# Print Accuracies\n",
    "print('Accuracy of Logistic Regression: {}%'.format(logreg_accuracy))\n",
    "print('Accuracy of Support Vector Machine: {}%'.format(svmachine_accuracy))\n",
    "print('Accuracy of k-Nearest Neighbor: {}%'.format(knneighbor_accuracy))\n",
    "print('Accuracy of Naive Bayes Gaussian: {}%'.format(nbayes_accuracy))\n",
    "print('Accuracy of XGBoost: {}%'.format(xgboost_accuracy))"
   ]
  },
  {
   "cell_type": "markdown",
   "metadata": {},
   "source": [
    "## Cross Validation"
   ]
  },
  {
   "cell_type": "code",
   "execution_count": 42,
   "metadata": {},
   "outputs": [
    {
     "name": "stderr",
     "output_type": "stream",
     "text": [
      "/home/ubuntu/anaconda2/lib/python2.7/site-packages/sklearn/preprocessing/label.py:151: DeprecationWarning: The truth value of an empty array is ambiguous. Returning False, but in future this will result in an error. Use `array.size > 0` to check that an array is not empty.\n",
      "  if diff:\n",
      "/home/ubuntu/anaconda2/lib/python2.7/site-packages/sklearn/preprocessing/label.py:151: DeprecationWarning: The truth value of an empty array is ambiguous. Returning False, but in future this will result in an error. Use `array.size > 0` to check that an array is not empty.\n",
      "  if diff:\n",
      "/home/ubuntu/anaconda2/lib/python2.7/site-packages/sklearn/preprocessing/label.py:151: DeprecationWarning: The truth value of an empty array is ambiguous. Returning False, but in future this will result in an error. Use `array.size > 0` to check that an array is not empty.\n",
      "  if diff:\n",
      "/home/ubuntu/anaconda2/lib/python2.7/site-packages/sklearn/preprocessing/label.py:151: DeprecationWarning: The truth value of an empty array is ambiguous. Returning False, but in future this will result in an error. Use `array.size > 0` to check that an array is not empty.\n",
      "  if diff:\n",
      "/home/ubuntu/anaconda2/lib/python2.7/site-packages/sklearn/preprocessing/label.py:151: DeprecationWarning: The truth value of an empty array is ambiguous. Returning False, but in future this will result in an error. Use `array.size > 0` to check that an array is not empty.\n",
      "  if diff:\n",
      "/home/ubuntu/anaconda2/lib/python2.7/site-packages/sklearn/preprocessing/label.py:151: DeprecationWarning: The truth value of an empty array is ambiguous. Returning False, but in future this will result in an error. Use `array.size > 0` to check that an array is not empty.\n",
      "  if diff:\n",
      "/home/ubuntu/anaconda2/lib/python2.7/site-packages/sklearn/preprocessing/label.py:151: DeprecationWarning: The truth value of an empty array is ambiguous. Returning False, but in future this will result in an error. Use `array.size > 0` to check that an array is not empty.\n",
      "  if diff:\n",
      "/home/ubuntu/anaconda2/lib/python2.7/site-packages/sklearn/preprocessing/label.py:151: DeprecationWarning: The truth value of an empty array is ambiguous. Returning False, but in future this will result in an error. Use `array.size > 0` to check that an array is not empty.\n",
      "  if diff:\n",
      "/home/ubuntu/anaconda2/lib/python2.7/site-packages/sklearn/preprocessing/label.py:151: DeprecationWarning: The truth value of an empty array is ambiguous. Returning False, but in future this will result in an error. Use `array.size > 0` to check that an array is not empty.\n",
      "  if diff:\n"
     ]
    },
    {
     "name": "stdout",
     "output_type": "stream",
     "text": [
      "Logistic Regression 10-fold cross validation average accuracy: 0.738\n",
      "Support Vector Machine 10-fold cross validation average accuracy: 0.728\n",
      "k-Nearest Neighbor 10-fold cross validation average accuracy: 0.741\n",
      "Naive Bayes Gaussian 10-fold cross validation average accuracy: 0.702\n",
      "XGBoost 10-fold cross validation average accuracy: 0.753\n"
     ]
    },
    {
     "name": "stderr",
     "output_type": "stream",
     "text": [
      "/home/ubuntu/anaconda2/lib/python2.7/site-packages/sklearn/preprocessing/label.py:151: DeprecationWarning: The truth value of an empty array is ambiguous. Returning False, but in future this will result in an error. Use `array.size > 0` to check that an array is not empty.\n",
      "  if diff:\n"
     ]
    }
   ],
   "source": [
    "from sklearn import model_selection\n",
    "from sklearn.model_selection import cross_val_score\n",
    "\n",
    "# 10 fold split\n",
    "kfold = model_selection.KFold(n_splits=10, random_state=7)\n",
    "\n",
    "# Run models\n",
    "scoring = 'accuracy'\n",
    "logreg_cv = model_selection.cross_val_score(logreg, X_train, y_train, cv=kfold, scoring=scoring)\n",
    "svmachine_cv = model_selection.cross_val_score(svmachine, X_train, y_train, cv=kfold, scoring=scoring)\n",
    "knneighbor_cv = model_selection.cross_val_score(knneighbor, X_train, y_train, cv=kfold, scoring=scoring)\n",
    "nbayes_cv = model_selection.cross_val_score(nbayes, X_train, y_train, cv=kfold, scoring=scoring)\n",
    "xgboost_cv = model_selection.cross_val_score(xgboost, X_train, y_train, cv=kfold, scoring=scoring)\n",
    "\n",
    "print(\"Logistic Regression 10-fold cross validation average accuracy: %.3f\" % (logreg_cv.mean()))\n",
    "print(\"Support Vector Machine 10-fold cross validation average accuracy: %.3f\" % (svmachine_cv.mean()))\n",
    "print(\"k-Nearest Neighbor 10-fold cross validation average accuracy: %.3f\" % (knneighbor_cv.mean()))\n",
    "print(\"Naive Bayes Gaussian 10-fold cross validation average accuracy: %.3f\" % (nbayes_cv.mean()))\n",
    "print(\"XGBoost 10-fold cross validation average accuracy: %.3f\" % (xgboost_cv.mean()))"
   ]
  },
  {
   "cell_type": "markdown",
   "metadata": {},
   "source": [
    "# Model Evaluation "
   ]
  },
  {
   "cell_type": "markdown",
   "metadata": {},
   "source": [
    "## Confusion Matrix"
   ]
  },
  {
   "cell_type": "code",
   "execution_count": 43,
   "metadata": {
    "collapsed": true
   },
   "outputs": [],
   "source": [
    "from sklearn.metrics import confusion_matrix\n",
    "\n",
    "def confusion_matrix_df(target_var, model_pred):\n",
    "    c_matrix = confusion_matrix(target_var, model_pred)\n",
    "    confusion_df = pd.DataFrame(c_matrix)\n",
    "\n",
    "    confusion_df = confusion_df.append([[list(confusion_df.sum(axis=1))[0],\n",
    "                                         list(confusion_df.sum(axis=1))[1]]])\n",
    "\n",
    "    confusion_df['Sum'] = list(confusion_df.sum(axis=1))\n",
    "\n",
    "    confusion_df.columns = ['Predicted: No', 'Predicted: Yes', 'Sum']\n",
    "    confusion_df.index = ['Actual: No', 'Actual: Yes', 'Sum']\n",
    "\n",
    "    return confusion_df"
   ]
  },
  {
   "cell_type": "code",
   "execution_count": 44,
   "metadata": {
    "collapsed": true
   },
   "outputs": [],
   "source": [
    "# Create confusion Matrix's\n",
    "logreg_confusion = confusion_matrix_df(y_test, logreg_pred)\n",
    "svmachine_confusion = confusion_matrix_df(y_test, svmachine_pred)\n",
    "knn_confusion = confusion_matrix_df(y_test, knneighbor_pred)\n",
    "nbayes_confusion = confusion_matrix_df(y_test, nbayes_pred)\n",
    "xgboost_confusion = confusion_matrix_df(y_test, xgboost_pred)"
   ]
  },
  {
   "cell_type": "code",
   "execution_count": 45,
   "metadata": {
    "scrolled": true
   },
   "outputs": [
    {
     "name": "stdout",
     "output_type": "stream",
     "text": [
      "Logistic RegressionConfusion Matrix\n"
     ]
    },
    {
     "data": {
      "image/png": "[encoded data removed]",
      "text/plain": [
       "<matplotlib.figure.Figure at 0x7f3fedb904d0>"
      ]
     },
     "metadata": {},
     "output_type": "display_data"
    },
    {
     "data": {
      "text/html": [
       "<div>\n",
       "<style scoped>\n",
       "    .dataframe tbody tr th:only-of-type {\n",
       "        vertical-align: middle;\n",
       "    }\n",
       "\n",
       "    .dataframe tbody tr th {\n",
       "        vertical-align: top;\n",
       "    }\n",
       "\n",
       "    .dataframe thead th {\n",
       "        text-align: right;\n",
       "    }\n",
       "</style>\n",
       "<table border=\"1\" class=\"dataframe\">\n",
       "  <thead>\n",
       "    <tr style=\"text-align: right;\">\n",
       "      <th></th>\n",
       "      <th>Predicted: No</th>\n",
       "      <th>Predicted: Yes</th>\n",
       "      <th>Sum</th>\n",
       "    </tr>\n",
       "  </thead>\n",
       "  <tbody>\n",
       "    <tr>\n",
       "      <th>Actual: No</th>\n",
       "      <td>11614</td>\n",
       "      <td>1853</td>\n",
       "      <td>13467</td>\n",
       "    </tr>\n",
       "    <tr>\n",
       "      <th>Actual: Yes</th>\n",
       "      <td>3869</td>\n",
       "      <td>4825</td>\n",
       "      <td>8694</td>\n",
       "    </tr>\n",
       "    <tr>\n",
       "      <th>Sum</th>\n",
       "      <td>13467</td>\n",
       "      <td>8694</td>\n",
       "      <td>22161</td>\n",
       "    </tr>\n",
       "  </tbody>\n",
       "</table>\n",
       "</div>"
      ],
      "text/plain": [
       "             Predicted: No  Predicted: Yes    Sum\n",
       "Actual: No           11614            1853  13467\n",
       "Actual: Yes           3869            4825   8694\n",
       "Sum                  13467            8694  22161"
      ]
     },
     "execution_count": 45,
     "metadata": {},
     "output_type": "execute_result"
    }
   ],
   "source": [
    "print('Logistic RegressionConfusion Matrix')\n",
    "sns.heatmap(logreg_confusion.iloc[0:2,0:2], cmap=\"YlGnBu\")\n",
    "plt.title('Logistic Reggresion Confusion Matrix')\n",
    "plt.show()\n",
    "logreg_confusion"
   ]
  },
  {
   "cell_type": "code",
   "execution_count": 46,
   "metadata": {
    "scrolled": true
   },
   "outputs": [
    {
     "name": "stdout",
     "output_type": "stream",
     "text": [
      "Support Vector Machine Confusion Matrix\n"
     ]
    },
    {
     "data": {
      "image/png": "[encoded data removed]",
      "text/plain": [
       "<matplotlib.figure.Figure at 0x7f3fedaddf50>"
      ]
     },
     "metadata": {},
     "output_type": "display_data"
    },
    {
     "data": {
      "text/html": [
       "<div>\n",
       "<style scoped>\n",
       "    .dataframe tbody tr th:only-of-type {\n",
       "        vertical-align: middle;\n",
       "    }\n",
       "\n",
       "    .dataframe tbody tr th {\n",
       "        vertical-align: top;\n",
       "    }\n",
       "\n",
       "    .dataframe thead th {\n",
       "        text-align: right;\n",
       "    }\n",
       "</style>\n",
       "<table border=\"1\" class=\"dataframe\">\n",
       "  <thead>\n",
       "    <tr style=\"text-align: right;\">\n",
       "      <th></th>\n",
       "      <th>Predicted: No</th>\n",
       "      <th>Predicted: Yes</th>\n",
       "      <th>Sum</th>\n",
       "    </tr>\n",
       "  </thead>\n",
       "  <tbody>\n",
       "    <tr>\n",
       "      <th>Actual: No</th>\n",
       "      <td>12080</td>\n",
       "      <td>1387</td>\n",
       "      <td>13467</td>\n",
       "    </tr>\n",
       "    <tr>\n",
       "      <th>Actual: Yes</th>\n",
       "      <td>4597</td>\n",
       "      <td>4097</td>\n",
       "      <td>8694</td>\n",
       "    </tr>\n",
       "    <tr>\n",
       "      <th>Sum</th>\n",
       "      <td>13467</td>\n",
       "      <td>8694</td>\n",
       "      <td>22161</td>\n",
       "    </tr>\n",
       "  </tbody>\n",
       "</table>\n",
       "</div>"
      ],
      "text/plain": [
       "             Predicted: No  Predicted: Yes    Sum\n",
       "Actual: No           12080            1387  13467\n",
       "Actual: Yes           4597            4097   8694\n",
       "Sum                  13467            8694  22161"
      ]
     },
     "execution_count": 46,
     "metadata": {},
     "output_type": "execute_result"
    }
   ],
   "source": [
    "print('Support Vector Machine Confusion Matrix')\n",
    "sns.heatmap(svmachine_confusion.iloc[0:2,0:2], cmap=\"YlGnBu\")\n",
    "plt.title('SVM Confusion Matrix')\n",
    "plt.show()\n",
    "svmachine_confusion"
   ]
  },
  {
   "cell_type": "code",
   "execution_count": 47,
   "metadata": {
    "scrolled": true
   },
   "outputs": [
    {
     "name": "stdout",
     "output_type": "stream",
     "text": [
      "k-Nearest Neighbor Confusion Matrix\n"
     ]
    },
    {
     "data": {
      "image/png": "[encoded data removed]",
      "text/plain": [
       "<matplotlib.figure.Figure at 0x7f3fed13b790>"
      ]
     },
     "metadata": {},
     "output_type": "display_data"
    },
    {
     "data": {
      "text/html": [
       "<div>\n",
       "<style scoped>\n",
       "    .dataframe tbody tr th:only-of-type {\n",
       "        vertical-align: middle;\n",
       "    }\n",
       "\n",
       "    .dataframe tbody tr th {\n",
       "        vertical-align: top;\n",
       "    }\n",
       "\n",
       "    .dataframe thead th {\n",
       "        text-align: right;\n",
       "    }\n",
       "</style>\n",
       "<table border=\"1\" class=\"dataframe\">\n",
       "  <thead>\n",
       "    <tr style=\"text-align: right;\">\n",
       "      <th></th>\n",
       "      <th>Predicted: No</th>\n",
       "      <th>Predicted: Yes</th>\n",
       "      <th>Sum</th>\n",
       "    </tr>\n",
       "  </thead>\n",
       "  <tbody>\n",
       "    <tr>\n",
       "      <th>Actual: No</th>\n",
       "      <td>11216</td>\n",
       "      <td>2251</td>\n",
       "      <td>13467</td>\n",
       "    </tr>\n",
       "    <tr>\n",
       "      <th>Actual: Yes</th>\n",
       "      <td>3394</td>\n",
       "      <td>5300</td>\n",
       "      <td>8694</td>\n",
       "    </tr>\n",
       "    <tr>\n",
       "      <th>Sum</th>\n",
       "      <td>13467</td>\n",
       "      <td>8694</td>\n",
       "      <td>22161</td>\n",
       "    </tr>\n",
       "  </tbody>\n",
       "</table>\n",
       "</div>"
      ],
      "text/plain": [
       "             Predicted: No  Predicted: Yes    Sum\n",
       "Actual: No           11216            2251  13467\n",
       "Actual: Yes           3394            5300   8694\n",
       "Sum                  13467            8694  22161"
      ]
     },
     "execution_count": 47,
     "metadata": {},
     "output_type": "execute_result"
    }
   ],
   "source": [
    "print('k-Nearest Neighbor Confusion Matrix')\n",
    "sns.heatmap(knn_confusion.iloc[0:2,0:2], cmap=\"YlGnBu\")\n",
    "plt.title('KNN Confusion Matrix')\n",
    "plt.show()\n",
    "knn_confusion"
   ]
  },
  {
   "cell_type": "code",
   "execution_count": 48,
   "metadata": {
    "scrolled": true
   },
   "outputs": [
    {
     "name": "stdout",
     "output_type": "stream",
     "text": [
      "Naive Bayes Confusion Matrix\n"
     ]
    },
    {
     "data": {
      "image/png": "[encoded data removed]",
      "text/plain": [
       "<matplotlib.figure.Figure at 0x7f3fed465c10>"
      ]
     },
     "metadata": {},
     "output_type": "display_data"
    },
    {
     "data": {
      "text/html": [
       "<div>\n",
       "<style scoped>\n",
       "    .dataframe tbody tr th:only-of-type {\n",
       "        vertical-align: middle;\n",
       "    }\n",
       "\n",
       "    .dataframe tbody tr th {\n",
       "        vertical-align: top;\n",
       "    }\n",
       "\n",
       "    .dataframe thead th {\n",
       "        text-align: right;\n",
       "    }\n",
       "</style>\n",
       "<table border=\"1\" class=\"dataframe\">\n",
       "  <thead>\n",
       "    <tr style=\"text-align: right;\">\n",
       "      <th></th>\n",
       "      <th>Predicted: No</th>\n",
       "      <th>Predicted: Yes</th>\n",
       "      <th>Sum</th>\n",
       "    </tr>\n",
       "  </thead>\n",
       "  <tbody>\n",
       "    <tr>\n",
       "      <th>Actual: No</th>\n",
       "      <td>12394</td>\n",
       "      <td>1073</td>\n",
       "      <td>13467</td>\n",
       "    </tr>\n",
       "    <tr>\n",
       "      <th>Actual: Yes</th>\n",
       "      <td>5473</td>\n",
       "      <td>3221</td>\n",
       "      <td>8694</td>\n",
       "    </tr>\n",
       "    <tr>\n",
       "      <th>Sum</th>\n",
       "      <td>13467</td>\n",
       "      <td>8694</td>\n",
       "      <td>22161</td>\n",
       "    </tr>\n",
       "  </tbody>\n",
       "</table>\n",
       "</div>"
      ],
      "text/plain": [
       "             Predicted: No  Predicted: Yes    Sum\n",
       "Actual: No           12394            1073  13467\n",
       "Actual: Yes           5473            3221   8694\n",
       "Sum                  13467            8694  22161"
      ]
     },
     "execution_count": 48,
     "metadata": {},
     "output_type": "execute_result"
    }
   ],
   "source": [
    "print('Naive Bayes Confusion Matrix')\n",
    "sns.heatmap(nbayes_confusion.iloc[0:2,0:2], cmap=\"YlGnBu\")\n",
    "plt.title('Naive Bayes Confusion Matrix')\n",
    "plt.show()\n",
    "nbayes_confusion"
   ]
  },
  {
   "cell_type": "code",
   "execution_count": 49,
   "metadata": {
    "scrolled": true
   },
   "outputs": [
    {
     "name": "stdout",
     "output_type": "stream",
     "text": [
      "XGBoost Confusion Matrix\n"
     ]
    },
    {
     "data": {
      "image/png": "[encoded data removed]",
      "text/plain": [
       "<matplotlib.figure.Figure at 0x7f3fecf45a50>"
      ]
     },
     "metadata": {},
     "output_type": "display_data"
    },
    {
     "data": {
      "text/html": [
       "<div>\n",
       "<style scoped>\n",
       "    .dataframe tbody tr th:only-of-type {\n",
       "        vertical-align: middle;\n",
       "    }\n",
       "\n",
       "    .dataframe tbody tr th {\n",
       "        vertical-align: top;\n",
       "    }\n",
       "\n",
       "    .dataframe thead th {\n",
       "        text-align: right;\n",
       "    }\n",
       "</style>\n",
       "<table border=\"1\" class=\"dataframe\">\n",
       "  <thead>\n",
       "    <tr style=\"text-align: right;\">\n",
       "      <th></th>\n",
       "      <th>Predicted: No</th>\n",
       "      <th>Predicted: Yes</th>\n",
       "      <th>Sum</th>\n",
       "    </tr>\n",
       "  </thead>\n",
       "  <tbody>\n",
       "    <tr>\n",
       "      <th>Actual: No</th>\n",
       "      <td>11313</td>\n",
       "      <td>2154</td>\n",
       "      <td>13467</td>\n",
       "    </tr>\n",
       "    <tr>\n",
       "      <th>Actual: Yes</th>\n",
       "      <td>3227</td>\n",
       "      <td>5467</td>\n",
       "      <td>8694</td>\n",
       "    </tr>\n",
       "    <tr>\n",
       "      <th>Sum</th>\n",
       "      <td>13467</td>\n",
       "      <td>8694</td>\n",
       "      <td>22161</td>\n",
       "    </tr>\n",
       "  </tbody>\n",
       "</table>\n",
       "</div>"
      ],
      "text/plain": [
       "             Predicted: No  Predicted: Yes    Sum\n",
       "Actual: No           11313            2154  13467\n",
       "Actual: Yes           3227            5467   8694\n",
       "Sum                  13467            8694  22161"
      ]
     },
     "execution_count": 49,
     "metadata": {},
     "output_type": "execute_result"
    }
   ],
   "source": [
    "print('XGBoost Confusion Matrix')\n",
    "sns.heatmap(xgboost_confusion.iloc[0:2,0:2], cmap=\"YlGnBu\")\n",
    "plt.title('XGBoost Confusion Matrix')\n",
    "plt.show()\n",
    "xgboost_confusion"
   ]
  },
  {
   "cell_type": "markdown",
   "metadata": {},
   "source": [
    "## ROC Curve"
   ]
  },
  {
   "cell_type": "code",
   "execution_count": 52,
   "metadata": {},
   "outputs": [
    {
     "data": {
      "image/png": "[encoded data removed]",
      "text/plain": [
       "<matplotlib.figure.Figure at 0x7f3fecbbdd50>"
      ]
     },
     "metadata": {},
     "output_type": "display_data"
    }
   ],
   "source": [
    "from sklearn.metrics import roc_auc_score\n",
    "from sklearn.metrics import roc_curve\n",
    "\n",
    "logit_roc_auc = roc_auc_score(y_test, logreg_pred)\n",
    "fpr, tpr, thresholds = roc_curve(y_test, logreg.predict_proba(X_test)[:,1])\n",
    "\n",
    "knn_roc_auc = roc_auc_score(y_test, knneighbor_pred)\n",
    "fpr_k, tpr_k, thresholds = roc_curve(y_test, knneighbor.predict_proba(X_test)[:,1])\n",
    "\n",
    "# svm_roc_auc = roc_auc_score(y_test, svmachine_pred)\n",
    "# fpr_s, tpr_s, thresholds = roc_curve(y_test, svmachine.predict_proba(X_test)[:,1]) \n",
    "\n",
    "nb_roc_auc = roc_auc_score(y_test, nbayes_pred)\n",
    "fpr_n, tpr_n, thresholds = roc_curve(y_test, nbayes.predict_proba(X_test)[:,1])\n",
    "\n",
    "xgb_roc_auc = roc_auc_score(y_test, xgboost_pred)\n",
    "fpr_x, tpr_x, thresholds = roc_curve(y_test, xgboost.predict_proba(X_test)[:,1])\n",
    "\n",
    "plt.figure()\n",
    "plt.plot(fpr, tpr, label = 'Logistic Regression (area = %0.2f)' % logit_roc_auc)\n",
    "plt.plot(fpr_k, tpr_k, label = 'K-Nearst Neighbor (area = %0.2f)' % knn_roc_auc)\n",
    "# plt.plot(fpr_s, tpr_s, label = 'Support Vector Machine (area = %0.2f)' % svm_roc_auc)\n",
    "plt.plot(fpr_n, tpr_n, label = 'Naive Bayes (area = %0.2f)' % nb_roc_auc)\n",
    "plt.plot(fpr_x, tpr_x, label = 'XGBoost (area = %0.2f)' % xgb_roc_auc)\n",
    "plt.plot([0, 1], [0, 1],'r--') #red dash line\n",
    "plt.xlabel('False Positive Rate')\n",
    "plt.ylabel('True Positive Rate')\n",
    "plt.title('Receiver Operating Characteristic (ROC)')\n",
    "plt.legend(loc=\"lower right\")\n",
    "plt.show()"
   ]
  },
  {
   "cell_type": "code",
   "execution_count": null,
   "metadata": {
    "collapsed": true
   },
   "outputs": [],
   "source": []
  }
 ],
 "metadata": {
  "kernelspec": {
   "display_name": "Python 3",
   "language": "python",
   "name": "python3"
  },
  "language_info": {
   "codemirror_mode": {
    "name": "ipython",
    "version": 3
   },
   "file_extension": ".py",
   "mimetype": "text/x-python",
   "name": "python",
   "nbconvert_exporter": "python",
   "pygments_lexer": "ipython3",
   "version": "3.6.3"
  }
 },
 "nbformat": 4,
 "nbformat_minor": 2
}
